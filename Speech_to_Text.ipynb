{
  "nbformat": 4,
  "nbformat_minor": 0,
  "metadata": {
    "colab": {
      "provenance": [],
      "authorship_tag": "ABX9TyOm0H+RW4dp20oh/U7Qi5h6",
      "include_colab_link": true
    },
    "kernelspec": {
      "name": "python3",
      "display_name": "Python 3"
    },
    "language_info": {
      "name": "python"
    }
  },
  "cells": [
    {
      "cell_type": "markdown",
      "metadata": {
        "id": "view-in-github",
        "colab_type": "text"
      },
      "source": [
        "<a href=\"https://colab.research.google.com/github/TRIPTI7503/..../blob/master/Speech_to_Text.ipynb\" target=\"_parent\"><img src=\"https://colab.research.google.com/assets/colab-badge.svg\" alt=\"Open In Colab\"/></a>"
      ]
    },
    {
      "cell_type": "code",
      "source": [
        "import speech_recognition as sr"
      ],
      "metadata": {
        "id": "qIKHVRzPvXNP"
      },
      "execution_count": 8,
      "outputs": []
    },
    {
      "cell_type": "code",
      "source": [
        "r = sr.Recognizer()\n",
        "\n",
        "with sr.Microphone() as source:\n",
        "    print(\"Speak now...\")\n",
        "    audio = r.listen(source)\n",
        "\n",
        "try:\n",
        "    text = r.recognize_google(audio)\n",
        "    print(\"You said: \", text)\n",
        "except sr.UnknownValueError:\n",
        "    print(\"Sorry, I could not understand your speech.\")\n",
        "except sr.RequestError as e:\n",
        "    print(\"Error: {0}\".format(e))"
      ],
      "metadata": {
        "id": "hY7pbWe7v0ii"
      },
      "execution_count": null,
      "outputs": []
    }
  ]
}
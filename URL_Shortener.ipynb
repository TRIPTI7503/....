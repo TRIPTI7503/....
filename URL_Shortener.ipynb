{
  "nbformat": 4,
  "nbformat_minor": 0,
  "metadata": {
    "colab": {
      "provenance": [],
      "authorship_tag": "ABX9TyPTBib4GhGA7RPp/5kJMVIh",
      "include_colab_link": true
    },
    "kernelspec": {
      "name": "python3",
      "display_name": "Python 3"
    },
    "language_info": {
      "name": "python"
    }
  },
  "cells": [
    {
      "cell_type": "markdown",
      "metadata": {
        "id": "view-in-github",
        "colab_type": "text"
      },
      "source": [
        "<a href=\"https://colab.research.google.com/github/TRIPTI7503/..../blob/master/URL_Shortener.ipynb\" target=\"_parent\"><img src=\"https://colab.research.google.com/assets/colab-badge.svg\" alt=\"Open In Colab\"/></a>"
      ]
    },
    {
      "cell_type": "code",
      "source": [
        "import pyshorteners"
      ],
      "metadata": {
        "id": "qIKHVRzPvXNP"
      },
      "execution_count": 14,
      "outputs": []
    },
    {
      "cell_type": "code",
      "source": [
        "url = input(\"Enter url: \")\n",
        "print(\"URL:\", pyshorteners.Shortener().tinyurl.short(url))"
      ],
      "metadata": {
        "colab": {
          "base_uri": "https://localhost:8080/"
        },
        "id": "hY7pbWe7v0ii",
        "outputId": "640e1365-3d71-4114-8c5a-8e400492e7f0"
      },
      "execution_count": 16,
      "outputs": [
        {
          "output_type": "stream",
          "name": "stdout",
          "text": [
            "Enter url: https://colab.research.google.com/drive/1Ihg52j9XBOFE_4ssMUqyPRsS4BQCR6-N?authuser=1#scrollTo=hY7pbWe7v0ii\n",
            "URL: https://tinyurl.com/223tco75\n"
          ]
        }
      ]
    }
  ]
}
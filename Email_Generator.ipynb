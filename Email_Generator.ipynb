{
  "nbformat": 4,
  "nbformat_minor": 0,
  "metadata": {
    "colab": {
      "provenance": [],
      "authorship_tag": "ABX9TyP1d3aaxP6M0LSMT8mLq4DC",
      "include_colab_link": true
    },
    "kernelspec": {
      "name": "python3",
      "display_name": "Python 3"
    },
    "language_info": {
      "name": "python"
    }
  },
  "cells": [
    {
      "cell_type": "markdown",
      "metadata": {
        "id": "view-in-github",
        "colab_type": "text"
      },
      "source": [
        "<a href=\"https://colab.research.google.com/github/TRIPTI7503/..../blob/master/Email_Generator.ipynb\" target=\"_parent\"><img src=\"https://colab.research.google.com/assets/colab-badge.svg\" alt=\"Open In Colab\"/></a>"
      ]
    },
    {
      "cell_type": "code",
      "execution_count": 1,
      "metadata": {
        "id": "HtPrZxmeoPo1"
      },
      "outputs": [],
      "source": [
        "import smtplib"
      ]
    },
    {
      "cell_type": "code",
      "source": [
        "to = input(\"Enter the email ID of the recipient: \")\n",
        "content = input(\"Enter the content: \")"
      ],
      "metadata": {
        "id": "2Yw6tgp5o4_3"
      },
      "execution_count": null,
      "outputs": []
    },
    {
      "cell_type": "code",
      "source": [
        "def SendEmail(to,content):\n",
        "  server = smtplib.SMTP(\"smtp.gmail.com\",587)\n",
        "  server.ehlo()\n",
        "  server.startlls()\n",
        "  server.login(\"senderemail@gmail.com\")\n",
        "  server.sendmail(\"senderemail@gmail.com\",to,content)\n",
        "  server.close()\n"
      ],
      "metadata": {
        "id": "qZAvEArRsrDD"
      },
      "execution_count": null,
      "outputs": []
    },
    {
      "cell_type": "code",
      "source": [
        "SendEmail(to,content)"
      ],
      "metadata": {
        "id": "A-I6t3ohsr80"
      },
      "execution_count": null,
      "outputs": []
    }
  ]
}
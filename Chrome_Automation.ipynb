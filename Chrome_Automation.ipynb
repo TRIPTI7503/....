{
  "nbformat": 4,
  "nbformat_minor": 0,
  "metadata": {
    "colab": {
      "provenance": [],
      "authorship_tag": "ABX9TyMZnfoJZmU+R31S86J42r+u",
      "include_colab_link": true
    },
    "kernelspec": {
      "name": "python3",
      "display_name": "Python 3"
    },
    "language_info": {
      "name": "python"
    }
  },
  "cells": [
    {
      "cell_type": "markdown",
      "metadata": {
        "id": "view-in-github",
        "colab_type": "text"
      },
      "source": [
        "<a href=\"https://colab.research.google.com/github/TRIPTI7503/..../blob/master/Chrome_Automation.ipynb\" target=\"_parent\"><img src=\"https://colab.research.google.com/assets/colab-badge.svg\" alt=\"Open In Colab\"/></a>"
      ]
    },
    {
      "cell_type": "code",
      "source": [
        "from selenium import webdriver\n",
        "from selenium.webdriver.common.keys import Keys"
      ],
      "metadata": {
        "id": "qIKHVRzPvXNP"
      },
      "execution_count": 8,
      "outputs": []
    },
    {
      "cell_type": "code",
      "source": [
        "chrome_driver_path = '/path/to/chromedriver'\n",
        "driver = webdriver.Chrome(chrome_driver_path)\n",
        "\n",
        "driver.get('https://www.google.com')\n",
        "\n",
        "search_box = driver.find_element_by_name('q')\n",
        "search_box.send_keys('Python automation')\n",
        "search_box.send_keys(Keys.RETURN)\n",
        "\n",
        "driver.implicitly_wait(10)\n",
        "\n",
        "first_result = driver.find_element_by_css_selector('div.g > div > div.rc > div.r > a > h3')\n",
        "print(first_result.text)\n",
        "\n",
        "driver.quit()\n"
      ],
      "metadata": {
        "id": "hY7pbWe7v0ii"
      },
      "execution_count": null,
      "outputs": []
    }
  ]
}
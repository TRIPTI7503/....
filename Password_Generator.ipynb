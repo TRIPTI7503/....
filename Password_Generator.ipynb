{
  "nbformat": 4,
  "nbformat_minor": 0,
  "metadata": {
    "colab": {
      "provenance": [],
      "authorship_tag": "ABX9TyMQrU1vqivOJjktpnLYz1wo",
      "include_colab_link": true
    },
    "kernelspec": {
      "name": "python3",
      "display_name": "Python 3"
    },
    "language_info": {
      "name": "python"
    }
  },
  "cells": [
    {
      "cell_type": "markdown",
      "metadata": {
        "id": "view-in-github",
        "colab_type": "text"
      },
      "source": [
        "<a href=\"https://colab.research.google.com/github/TRIPTI7503/..../blob/master/Password_Generator.ipynb\" target=\"_parent\"><img src=\"https://colab.research.google.com/assets/colab-badge.svg\" alt=\"Open In Colab\"/></a>"
      ]
    },
    {
      "cell_type": "code",
      "execution_count": null,
      "metadata": {
        "id": "HtPrZxmeoPo1"
      },
      "outputs": [],
      "source": [
        "import string\n",
        "import random"
      ]
    },
    {
      "cell_type": "code",
      "source": [
        "def gen():\n",
        "  s1 = string.ascii_uppercase\n",
        "  s2 = string.ascii_lowercase\n",
        "  s3 = string.digits\n",
        "  s4 = string.punctuation\n",
        "  passlen = int(input(\"Enter the password length: \"))\n",
        "  s = []\n",
        "  s.extend(list(s1))\n",
        "  s.extend(list(s2))\n",
        "  s.extend(list(s3))\n",
        "  s.extend(list(s4))\n",
        "  random.shuffle(s)\n",
        "  password = (\"\".join(s[0:passlen]))\n",
        "  print(password)"
      ],
      "metadata": {
        "id": "2Yw6tgp5o4_3"
      },
      "execution_count": null,
      "outputs": []
    },
    {
      "cell_type": "code",
      "source": [
        "gen()"
      ],
      "metadata": {
        "id": "-esINuf6o5x4"
      },
      "execution_count": null,
      "outputs": []
    }
  ]
}